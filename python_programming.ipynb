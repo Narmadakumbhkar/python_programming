{
 "cells": [
  {
   "cell_type": "markdown",
   "id": "aa99f51c",
   "metadata": {},
   "source": [
    "# python_programs:-"
   ]
  },
  {
   "cell_type": "markdown",
   "id": "2fa35ac1",
   "metadata": {},
   "source": [
    "# Q(1) python program for sum two numbers:-"
   ]
  },
  {
   "cell_type": "code",
   "execution_count": 1,
   "id": "61f11285",
   "metadata": {},
   "outputs": [
    {
     "name": "stdout",
     "output_type": "stream",
     "text": [
      "50\n"
     ]
    }
   ],
   "source": [
    "a=20\n",
    "b=30\n",
    "c=a+b\n",
    "print(c)"
   ]
  },
  {
   "cell_type": "code",
   "execution_count": 2,
   "id": "463a93e5",
   "metadata": {},
   "outputs": [
    {
     "name": "stdout",
     "output_type": "stream",
     "text": [
      "sum of give no:- 30\n"
     ]
    }
   ],
   "source": [
    "num=10\n",
    "num1=20\n",
    "sum=num+num1\n",
    "print(\"sum of give no:-\",sum)"
   ]
  },
  {
   "cell_type": "code",
   "execution_count": 3,
   "id": "805c5e29",
   "metadata": {},
   "outputs": [
    {
     "name": "stdout",
     "output_type": "stream",
     "text": [
      "sum of given no:- 50\n"
     ]
    }
   ],
   "source": [
    "a=10\n",
    "b=40\n",
    "print(\"sum of given no:-\",a+b)"
   ]
  },
  {
   "cell_type": "markdown",
   "id": "5dd6a3d0",
   "metadata": {},
   "source": [
    "### (2) with user-input:-"
   ]
  },
  {
   "cell_type": "code",
   "execution_count": 4,
   "id": "075862aa",
   "metadata": {},
   "outputs": [
    {
     "name": "stdout",
     "output_type": "stream",
     "text": [
      "enter first no:-12.5\n",
      "enter second no:-34.5\n",
      "sum of the no:- 47.0\n"
     ]
    }
   ],
   "source": [
    "num1=float(input(\"enter first no:-\"))\n",
    "num2=float(input(\"enter second no:-\"))\n",
    "sum=num1+num2\n",
    "print(\"sum of the no:-\",sum)"
   ]
  },
  {
   "cell_type": "markdown",
   "id": "dbca11e8",
   "metadata": {},
   "source": [
    "## Q(2) python program to find the square root:-\n",
    "\n",
    "\n"
   ]
  },
  {
   "cell_type": "markdown",
   "id": "61606023",
   "metadata": {},
   "source": [
    "# (1) using Exponentiotion:-(**)"
   ]
  },
  {
   "cell_type": "code",
   "execution_count": 5,
   "id": "909e18cb",
   "metadata": {},
   "outputs": [
    {
     "name": "stdout",
     "output_type": "stream",
     "text": [
      "the squart root of the given no:- 8.0\n"
     ]
    }
   ],
   "source": [
    "num=64\n",
    "sr=num**(1/2)\n",
    "print(\"the squart root of the given no:-\",sr)"
   ]
  },
  {
   "cell_type": "code",
   "execution_count": 6,
   "id": "9af8a2c6",
   "metadata": {},
   "outputs": [
    {
     "name": "stdout",
     "output_type": "stream",
     "text": [
      "enter the no:-49\n",
      "squart no is:-  7.0\n"
     ]
    }
   ],
   "source": [
    "num=int(input(\"enter the no:-\"))\n",
    "sr=num**(0.5)\n",
    "print(\"squart no is:- \",sr)"
   ]
  },
  {
   "cell_type": "markdown",
   "id": "3e21c8a1",
   "metadata": {},
   "source": [
    "# (2) using math module:-"
   ]
  },
  {
   "cell_type": "code",
   "execution_count": 7,
   "id": "15b91806",
   "metadata": {},
   "outputs": [
    {
     "name": "stdout",
     "output_type": "stream",
     "text": [
      "enter the no:-125\n",
      "the square root of :- 11.180339887498949\n"
     ]
    }
   ],
   "source": [
    "import math\n",
    "num=int(input(\"enter the no:-\"))\n",
    "sr=math.sqrt(num)\n",
    "print(\"the square root of :-\",sr)"
   ]
  },
  {
   "cell_type": "code",
   "execution_count": 1,
   "id": "d495c3ba",
   "metadata": {},
   "outputs": [
    {
     "name": "stdout",
     "output_type": "stream",
     "text": [
      "8.0\n"
     ]
    }
   ],
   "source": [
    "import math\n",
    "sr=math.sqrt(64)\n",
    "print(sr)"
   ]
  },
  {
   "cell_type": "markdown",
   "id": "82a52103",
   "metadata": {},
   "source": [
    "## Q(3) python program to calculate the area of a Triangle:- "
   ]
  },
  {
   "cell_type": "code",
   "execution_count": 8,
   "id": "8853c0af",
   "metadata": {},
   "outputs": [
    {
     "name": "stdout",
     "output_type": "stream",
     "text": [
      "enter the height of traingle:-12\n",
      "enter the base of traingle:-5\n",
      "the area of triangle:- 30.0\n"
     ]
    }
   ],
   "source": [
    "height=float(input(\"enter the height of traingle:-\"))\n",
    "Base=float(input(\"enter the base of traingle:-\"))\n",
    "area = (1/2)*height*Base\n",
    "print(\"the area of triangle:-\",area)"
   ]
  },
  {
   "cell_type": "markdown",
   "id": "614d8a14",
   "metadata": {},
   "source": [
    "## Q(4) python program to solve Quadratic Equation:-"
   ]
  },
  {
   "cell_type": "markdown",
   "id": "cdaaa516",
   "metadata": {},
   "source": [
    "### Quadratic Equation formula:-ax**2 + bx + c = 0\n",
    "### a, b and c are real numbers\n",
    "### a! = 0"
   ]
  },
  {
   "cell_type": "code",
   "execution_count": 9,
   "id": "41ac2a06",
   "metadata": {},
   "outputs": [
    {
     "name": "stdout",
     "output_type": "stream",
     "text": [
      "enter a value:-12\n",
      "enter b value:-5\n",
      "enter c value:-6\n",
      "this is root1: (-0.20833333333333334-0.6757197808427856j)\n",
      "this is root2: (-0.20833333333333334+0.6757197808427856j)\n",
      "the rooots are (-0.20833333333333334-0.6757197808427856j) and (-0.20833333333333334+0.6757197808427856j)\n"
     ]
    }
   ],
   "source": [
    "import cmath\n",
    "a=int(input(\"enter a value:-\"))\n",
    "b=int(input(\"enter b value:-\"))\n",
    "c=int(input(\"enter c value:-\"))\n",
    "d= (b**2) - (4*a*c)                      # d is formula of \"discriminant\"\n",
    "root1=(-b-cmath.sqrt(d))/(2*a)\n",
    "root2=(-b+cmath.sqrt(d))/(2*a)\n",
    "print(\"this is root1:\",root1)\n",
    "print(\"this is root2:\",root2)\n",
    "print(\"the rooots are\", root1, \"and\" , root2)"
   ]
  },
  {
   "cell_type": "markdown",
   "id": "3c747ca4",
   "metadata": {},
   "source": [
    "## Q(5) python program to Swap Two Variables:-"
   ]
  },
  {
   "cell_type": "markdown",
   "id": "ec2c33ba",
   "metadata": {},
   "source": [
    "# (1) with using third variable:-"
   ]
  },
  {
   "cell_type": "code",
   "execution_count": 3,
   "id": "0c36a199",
   "metadata": {},
   "outputs": [
    {
     "name": "stdout",
     "output_type": "stream",
     "text": [
      "the value of temp variable is 13\n",
      "the value of x is 12\n",
      "the value of y is 13\n"
     ]
    }
   ],
   "source": [
    "x=13\n",
    "y=12\n",
    "temp=x\n",
    "print(\"the value of temp variable is\",temp)\n",
    "x=y\n",
    "print(\"the value of x is\",x)\n",
    "y=temp\n",
    "print(\"the value of y is\", y)"
   ]
  },
  {
   "cell_type": "markdown",
   "id": "019a357f",
   "metadata": {},
   "source": [
    "# (2) without using third variable:-\n"
   ]
  },
  {
   "cell_type": "code",
   "execution_count": 12,
   "id": "982f699c",
   "metadata": {},
   "outputs": [
    {
     "name": "stdout",
     "output_type": "stream",
     "text": [
      "the value of x is:- 12\n",
      "the value of y is:- 13\n"
     ]
    }
   ],
   "source": [
    "x=13\n",
    "y=12\n",
    "x,y=y,x\n",
    "print(\"the value of x is:-\",x)\n",
    "print(\"the value of y is:-\",y)"
   ]
  },
  {
   "cell_type": "markdown",
   "id": "1e906adf",
   "metadata": {},
   "source": [
    "# Q(6) Python program to Generate a Random Number:-"
   ]
  },
  {
   "cell_type": "markdown",
   "id": "7c14813a",
   "metadata": {},
   "source": [
    "### (1) using random module:-"
   ]
  },
  {
   "cell_type": "code",
   "execution_count": 7,
   "id": "4220671d",
   "metadata": {},
   "outputs": [
    {
     "name": "stdout",
     "output_type": "stream",
     "text": [
      "7\n"
     ]
    }
   ],
   "source": [
    "import random\n",
    "num=random.randint(0,10)\n",
    "print(num)"
   ]
  },
  {
   "cell_type": "markdown",
   "id": "82632b7b",
   "metadata": {},
   "source": [
    "# Q(7) python program to convert kilometers to Miles:-\n"
   ]
  },
  {
   "cell_type": "markdown",
   "id": "eda6788f",
   "metadata": {},
   "source": [
    "### 1 Kilometer = 0.621371 Mile"
   ]
  },
  {
   "cell_type": "code",
   "execution_count": 14,
   "id": "19a621b6",
   "metadata": {},
   "outputs": [
    {
     "name": "stdout",
     "output_type": "stream",
     "text": [
      "enter your value in kms:-100\n",
      "100.0 kms will be 62.137100000000004 miles\n"
     ]
    }
   ],
   "source": [
    "km=float(input(\"enter your value in kms:-\"))\n",
    "miles = (0.621371)*km\n",
    "print(km,\"kms will be\",miles,\"miles\")"
   ]
  },
  {
   "cell_type": "markdown",
   "id": "517cb376",
   "metadata": {},
   "source": [
    "# Q(8) python program to convert celsius to fahrenheit:-\n",
    "\n",
    "\n"
   ]
  },
  {
   "cell_type": "markdown",
   "id": "8a764a7c",
   "metadata": {},
   "source": [
    "### 0' celsius = 32 fahrenheit\n",
    "### (c*9/5)+32=F"
   ]
  },
  {
   "cell_type": "code",
   "execution_count": 15,
   "id": "10cf3d68",
   "metadata": {},
   "outputs": [
    {
     "name": "stdout",
     "output_type": "stream",
     "text": [
      "enter temperature in celsius:-32\n",
      "the converted value is 89.6 fahrenheit\n"
     ]
    }
   ],
   "source": [
    "celsius=int(input(\"enter temperature in celsius:-\"))\n",
    "fahrenheit = (celsius*(9/5))+32\n",
    "print(\"the converted value is\", fahrenheit,\"fahrenheit\")"
   ]
  },
  {
   "cell_type": "markdown",
   "id": "2fd72009",
   "metadata": {},
   "source": [
    "## Q(9) python program to check if a number is positive,Negative or 0(zero) :-\n",
    "\n",
    "\n"
   ]
  },
  {
   "cell_type": "markdown",
   "id": "014ba477",
   "metadata": {},
   "source": [
    "### using conditional statements:"
   ]
  },
  {
   "cell_type": "code",
   "execution_count": 16,
   "id": "1e4b9f0b",
   "metadata": {},
   "outputs": [
    {
     "name": "stdout",
     "output_type": "stream",
     "text": [
      "it is positive number:- 12\n"
     ]
    }
   ],
   "source": [
    "num=12\n",
    "if num>0:\n",
    "  print(\"it is positive number:-\",num)\n",
    "elif num ==0:\n",
    "  print(\"it is Zero number:-\",num)\n",
    "else:\n",
    "  print(\"it is Negative number:-\",num)"
   ]
  },
  {
   "cell_type": "markdown",
   "id": "d0852d38",
   "metadata": {},
   "source": [
    "## Q(10) python program to check if a Number is odd or Even:-\n",
    "\n",
    "---\n",
    "\n"
   ]
  },
  {
   "cell_type": "code",
   "execution_count": 8,
   "id": "85313bf4",
   "metadata": {},
   "outputs": [
    {
     "name": "stdout",
     "output_type": "stream",
     "text": [
      "enter the number:-45\n",
      "This is odd number 45\n"
     ]
    }
   ],
   "source": [
    "num=int(input(\"enter the number:-\"))\n",
    "if num%2==0:\n",
    "  print(\"This is a even number\",num)\n",
    "else:\n",
    "  print(\"This is odd number\",num)"
   ]
  },
  {
   "cell_type": "markdown",
   "id": "85b16ecd",
   "metadata": {},
   "source": [
    "# Q(11) python program to check Leap year:-\n",
    "\n"
   ]
  },
  {
   "cell_type": "markdown",
   "id": "f17efa42",
   "metadata": {},
   "source": [
    "# Normal year: 365\n",
    "### Leap year: 366 ===> once in 4 years"
   ]
  },
  {
   "cell_type": "code",
   "execution_count": 19,
   "id": "7adf3902",
   "metadata": {},
   "outputs": [
    {
     "name": "stdout",
     "output_type": "stream",
     "text": [
      "enter the year:-2023\n",
      "2023 :is a normal year\n"
     ]
    }
   ],
   "source": [
    "year=int(input(\"enter the year:-\"))\n",
    "if (year % 400 ==0) and (year % 100 ==0):\n",
    "  print(year, \"is a leap year\")\n",
    "elif (year % 4 ==0) and (year % 100 != 0):\n",
    "  print(year,\"is a leap year\")\n",
    "else:\n",
    "  print(year, \":is a normal year\")"
   ]
  },
  {
   "cell_type": "markdown",
   "id": "0dc588c2",
   "metadata": {},
   "source": [
    "# Q(12) python program to find the largest Among Three Numbers:-"
   ]
  },
  {
   "cell_type": "code",
   "execution_count": 20,
   "id": "6e59c53f",
   "metadata": {},
   "outputs": [
    {
     "name": "stdout",
     "output_type": "stream",
     "text": [
      "61 is largest number\n"
     ]
    }
   ],
   "source": [
    "num1=45\n",
    "num2=20\n",
    "num3=61\n",
    "if (num1>num2) and (num1>num3):\n",
    "  print(num1,\"is largest number\")\n",
    "elif (num2>num1) and (num2>num3):\n",
    "  print(num2,\"is largest number\")\n",
    "else:\n",
    "  print(num3,\"is largest number\")"
   ]
  },
  {
   "cell_type": "markdown",
   "id": "551b3048",
   "metadata": {},
   "source": [
    "# Q(13) python program to check prime number:-"
   ]
  },
  {
   "cell_type": "code",
   "execution_count": 1,
   "id": "0cfc373a",
   "metadata": {},
   "outputs": [
    {
     "name": "stdout",
     "output_type": "stream",
     "text": [
      "enter a number here: 45\n",
      "it is also not a prime number\n"
     ]
    }
   ],
   "source": [
    "num=int(input(\"enter a number here: \"))\n",
    "if num == 1:\n",
    "  print(\"it is not a prime number\")\n",
    "if num>1:\n",
    "  for i in range(2,num):\n",
    "    if num % i == 0:\n",
    "      print(\"it is also not a prime number\")\n",
    "      break\n",
    "  else:\n",
    "       print(\"it is a prime number\")"
   ]
  },
  {
   "cell_type": "code",
   "execution_count": 22,
   "id": "8b5758a2",
   "metadata": {},
   "outputs": [
    {
     "name": "stdout",
     "output_type": "stream",
     "text": [
      "enter the number:67\n",
      "prime\n"
     ]
    }
   ],
   "source": [
    "\n",
    "num1=int(input(\"enter the number:\"))\n",
    "if num1 ==1:\n",
    "  print(\"not prime\")\n",
    "if num1>1:\n",
    "  for i in range(2,num1):\n",
    "    if num1 % i== 0:\n",
    "        print(\"not prime\")\n",
    "        break\n",
    "  else:\n",
    "         print(\"prime\")"
   ]
  },
  {
   "cell_type": "code",
   "execution_count": 11,
   "id": "7aa9660d",
   "metadata": {},
   "outputs": [
    {
     "name": "stdout",
     "output_type": "stream",
     "text": [
      "enter a number here: 67\n",
      "prime number\n"
     ]
    }
   ],
   "source": [
    "x=1\n",
    "def prime(num):\n",
    "    for i in range(2,num):\n",
    "        if num%i==0:\n",
    "            x=0\n",
    "            break\n",
    "        else:\n",
    "            x=1\n",
    "    if x==0:\n",
    "        print(\"not prime number\")\n",
    "    else:\n",
    "        print(\"prime number\")\n",
    "num=int(input(\"enter a number here: \"))\n",
    "prime(num)"
   ]
  },
  {
   "cell_type": "markdown",
   "id": "f7aea07e",
   "metadata": {},
   "source": [
    "# using while loop for finding the prime number:-"
   ]
  },
  {
   "cell_type": "code",
   "execution_count": 5,
   "id": "46e47202",
   "metadata": {},
   "outputs": [
    {
     "name": "stdout",
     "output_type": "stream",
     "text": [
      "enter a number here: 67\n",
      "67 :prime number\n",
      "2\n"
     ]
    }
   ],
   "source": [
    "i=1\n",
    "c=0\n",
    "num=int(input(\"enter a number here: \"))\n",
    "while i<=num:\n",
    "    if num%i==0:\n",
    "        c+=1\n",
    "    i+=1\n",
    "    \n",
    "if c==2:\n",
    "    print(num,\":prime number\")\n",
    "else:\n",
    "    print(num,\" :not prime\")\n",
    "print(c)"
   ]
  },
  {
   "cell_type": "code",
   "execution_count": 6,
   "id": "9286df2c",
   "metadata": {},
   "outputs": [
    {
     "name": "stdout",
     "output_type": "stream",
     "text": [
      "enter a number here: 29\n",
      "not prime\n",
      "0\n"
     ]
    }
   ],
   "source": [
    "i=2\n",
    "c=0\n",
    "num=int(input('enter a number here: '))\n",
    "while i<=num/2:\n",
    "    if num %2 ==0:\n",
    "         c+=1\n",
    "    i+=1\n",
    "if c==2:\n",
    "    print(\"prime\")\n",
    "else:\n",
    "    print(\"not prime\")\n",
    "print(c)"
   ]
  },
  {
   "cell_type": "markdown",
   "id": "1cba4a22",
   "metadata": {},
   "source": [
    "# Q(14) python program to print all prime number in an interval:-\n"
   ]
  },
  {
   "cell_type": "code",
   "execution_count": 2,
   "id": "a1b136df",
   "metadata": {},
   "outputs": [
    {
     "name": "stdout",
     "output_type": "stream",
     "text": [
      "enter a lower limit:-2\n",
      "enter a upper limit:-53\n",
      "2\n",
      "3\n",
      "5\n",
      "7\n",
      "11\n",
      "13\n",
      "17\n",
      "19\n",
      "23\n",
      "29\n",
      "31\n",
      "37\n",
      "41\n",
      "43\n",
      "47\n",
      "53\n"
     ]
    }
   ],
   "source": [
    "lower=int(input(\"enter a lower limit:-\"))\n",
    "upper=int(input(\"enter a upper limit:-\"))\n",
    "for num in range(lower,upper+1):\n",
    "  if num>1:\n",
    "    for i in range(2,num):\n",
    "      if num%i==0:\n",
    "        break\n",
    "    else:\n",
    "        \n",
    "      print(num)"
   ]
  },
  {
   "cell_type": "code",
   "execution_count": 24,
   "id": "9de59776",
   "metadata": {},
   "outputs": [
    {
     "name": "stdout",
     "output_type": "stream",
     "text": [
      "enter lower no:-50\n",
      "enter upper no:-100\n",
      "53\n",
      "59\n",
      "61\n",
      "67\n",
      "71\n",
      "73\n",
      "79\n",
      "83\n",
      "89\n",
      "97\n"
     ]
    }
   ],
   "source": [
    "l=int(input(\"enter lower no:-\"))\n",
    "u=int(input(\"enter upper no:-\"))\n",
    "for n in range(l,u+1):\n",
    "  if n>1:\n",
    "    for i in range(2,num):\n",
    "      if n%i==0:\n",
    "        \n",
    "        break\n",
    "    else:\n",
    "      print(n)\n",
    "      "
   ]
  },
  {
   "cell_type": "markdown",
   "id": "da07bdeb",
   "metadata": {},
   "source": [
    "# Q(15) python program to find the factorial of a number:-\n"
   ]
  },
  {
   "cell_type": "markdown",
   "id": "d99daa0d",
   "metadata": {},
   "source": [
    "# (1) using for loop:-"
   ]
  },
  {
   "cell_type": "code",
   "execution_count": 25,
   "id": "228a3b43",
   "metadata": {},
   "outputs": [
    {
     "name": "stdout",
     "output_type": "stream",
     "text": [
      "enter the no:-5\n",
      "The factorial of the given no is:- 120\n"
     ]
    }
   ],
   "source": [
    "num=int(input(\"enter the no:-\"))\n",
    "fact=1\n",
    "if num<0:\n",
    "  print(\"The factorial does not exist\")\n",
    "if num==0:\n",
    "  print(\"The factorial of 0 is\",1)\n",
    "if num>0:\n",
    "  for i in range(1,num+1):\n",
    "    fact=fact*i\n",
    "print(\"The factorial of the given no is:-\",fact)"
   ]
  },
  {
   "cell_type": "code",
   "execution_count": 1,
   "id": "2fbf4c5c",
   "metadata": {},
   "outputs": [
    {
     "name": "stdout",
     "output_type": "stream",
     "text": [
      "enter a number here: 6\n",
      "the factorial of the given num is 720\n"
     ]
    }
   ],
   "source": [
    "num=int(input(\"enter a number here: \"))\n",
    "fact=1\n",
    "if num<0:\n",
    "    print(\"not exist\")\n",
    "if num==0:\n",
    "    print(\"factorial 1\")\n",
    "if num>0:\n",
    "    for i in range(1,num+1):\n",
    "        fact=fact*i\n",
    "print(\"the factorial of the given num is\",fact)"
   ]
  },
  {
   "cell_type": "code",
   "execution_count": 26,
   "id": "a8ceb59e",
   "metadata": {},
   "outputs": [
    {
     "name": "stdout",
     "output_type": "stream",
     "text": [
      "enter the no:-7\n",
      "the factorial is :- 5040\n"
     ]
    }
   ],
   "source": [
    "n=int(input(\"enter the no:-\"))\n",
    "f=1\n",
    "if n<0:\n",
    "  print(\"factorial does not exixt\")\n",
    "if n==0:\n",
    "  print(\"factorial o is\",1)\n",
    "if n>0:\n",
    "  for j in range(1,n+1):\n",
    "    f=f*j\n",
    "print(\"the factorial is :-\",f)"
   ]
  },
  {
   "cell_type": "markdown",
   "id": "363c6642",
   "metadata": {},
   "source": [
    "# (2) using Recursion:-function ke ander fanction ko call krana recursion hota \n"
   ]
  },
  {
   "cell_type": "code",
   "execution_count": 27,
   "id": "ecb99457",
   "metadata": {},
   "outputs": [
    {
     "name": "stdout",
     "output_type": "stream",
     "text": [
      "enter a number here:5\n",
      "the factorial is given no is: 120\n"
     ]
    }
   ],
   "source": [
    "def fact(a):\n",
    "  if a==0:\n",
    "    return 1\n",
    "  else:\n",
    "    return ((a)*fact(a-1))\n",
    "num =int(input(\"enter a number here:\"))\n",
    "result=fact(num)\n",
    "print(\"the factorial is given no is:\",result)"
   ]
  },
  {
   "cell_type": "code",
   "execution_count": 28,
   "id": "42db59f2",
   "metadata": {},
   "outputs": [
    {
     "name": "stdout",
     "output_type": "stream",
     "text": [
      "enter a number here:-6\n",
      "the factorial no is: 720\n"
     ]
    }
   ],
   "source": [
    "def fact(x):\n",
    "  if x==0:\n",
    "    return 1\n",
    "  else:\n",
    "    return ((x)*fact(x-1))\n",
    "n=int(input(\"enter a number here:-\"))\n",
    "r=fact(n)\n",
    "print(\"the factorial no is:\",r)\n"
   ]
  },
  {
   "cell_type": "markdown",
   "id": "46ad7462",
   "metadata": {},
   "source": [
    "# Q(16) python program to display the multiplication Table:-\n"
   ]
  },
  {
   "cell_type": "markdown",
   "id": "b8ad4416",
   "metadata": {},
   "source": [
    "# (1) with for loop:-"
   ]
  },
  {
   "cell_type": "code",
   "execution_count": 29,
   "id": "cbbf0c9f",
   "metadata": {},
   "outputs": [
    {
     "name": "stdout",
     "output_type": "stream",
     "text": [
      "enter a number here:-5\n",
      "5 * 1 = 5\n",
      "5 * 2 = 10\n",
      "5 * 3 = 15\n",
      "5 * 4 = 20\n",
      "5 * 5 = 25\n",
      "5 * 6 = 30\n",
      "5 * 7 = 35\n",
      "5 * 8 = 40\n",
      "5 * 9 = 45\n",
      "5 * 10 = 50\n"
     ]
    }
   ],
   "source": [
    "n=int(input(\"enter a number here:-\"))\n",
    "for i in range(1,11):\n",
    "  print (n,\"*\",i ,\"=\",n*i) "
   ]
  },
  {
   "cell_type": "code",
   "execution_count": 30,
   "id": "a75b4995",
   "metadata": {
    "scrolled": true
   },
   "outputs": [
    {
     "name": "stdout",
     "output_type": "stream",
     "text": [
      "7 x 1 = 7\n",
      "7 x 2 = 14\n",
      "7 x 3 = 21\n",
      "7 x 4 = 28\n",
      "7 x 5 = 35\n",
      "7 x 6 = 42\n",
      "7 x 7 = 49\n",
      "7 x 8 = 56\n",
      "7 x 9 = 63\n",
      "7 x 10 = 70\n",
      "7 x 11 = 77\n",
      "7 x 12 = 84\n",
      "7 x 13 = 91\n",
      "7 x 14 = 98\n"
     ]
    }
   ],
   "source": [
    "n=7\n",
    "for i in range(1,15):\n",
    "  print(n,\"x\",i,\"=\",n*i)"
   ]
  },
  {
   "cell_type": "markdown",
   "id": "8da625a6",
   "metadata": {},
   "source": [
    "# (2) with while loop:-"
   ]
  },
  {
   "cell_type": "code",
   "execution_count": 31,
   "id": "4cf487e0",
   "metadata": {},
   "outputs": [
    {
     "name": "stdout",
     "output_type": "stream",
     "text": [
      "17 X 0 = 0\n",
      "17 X 1 = 17\n",
      "17 X 2 = 34\n",
      "17 X 3 = 51\n",
      "17 X 4 = 68\n",
      "17 X 5 = 85\n",
      "17 X 6 = 102\n",
      "17 X 7 = 119\n",
      "17 X 8 = 136\n",
      "17 X 9 = 153\n",
      "17 X 10 = 170\n"
     ]
    }
   ],
   "source": [
    "n=17\n",
    "i=0\n",
    "while i<=10:\n",
    "  print(n,\"X\",i,\"=\",n*i)\n",
    "  i+=1                        # (i=i+1)"
   ]
  },
  {
   "cell_type": "code",
   "execution_count": 32,
   "id": "55dbbb85",
   "metadata": {},
   "outputs": [
    {
     "name": "stdout",
     "output_type": "stream",
     "text": [
      "enter the no:-19\n",
      "19 * 2 = 38\n",
      "19 * 3 = 57\n",
      "19 * 4 = 76\n",
      "19 * 5 = 95\n",
      "19 * 6 = 114\n",
      "19 * 7 = 133\n",
      "19 * 8 = 152\n",
      "19 * 9 = 171\n",
      "19 * 10 = 190\n",
      "19 * 11 = 209\n"
     ]
    }
   ],
   "source": [
    "n=int(input(\"enter the no:-\"))\n",
    "i=2\n",
    "while i<=11:\n",
    "  print(n,\"*\",i,\"=\",n*i)\n",
    "  i=i+1\n"
   ]
  },
  {
   "cell_type": "markdown",
   "id": "ac18f197",
   "metadata": {},
   "source": [
    "# Q(17) python program to print the Fibonacci sequence:-\n"
   ]
  },
  {
   "cell_type": "code",
   "execution_count": 33,
   "id": "68cd3a0f",
   "metadata": {},
   "outputs": [
    {
     "name": "stdout",
     "output_type": "stream",
     "text": [
      "enter a no:-6\n",
      "0\n",
      "1\n",
      "1\n",
      "2\n",
      "3\n",
      "5\n",
      "8\n",
      "13\n"
     ]
    }
   ],
   "source": [
    "a=0\n",
    "b=1\n",
    "num=int(input(\"enter a no:-\"))\n",
    "if num==1:\n",
    "  print(a)\n",
    "\n",
    "else:\n",
    "  print(a)\n",
    "  print(b)\n",
    "  for i in range(1,num+1):\n",
    "    c=a+b\n",
    "    a=b\n",
    "    b=c\n",
    "    print(c)"
   ]
  },
  {
   "cell_type": "code",
   "execution_count": 34,
   "id": "b7fb1162",
   "metadata": {},
   "outputs": [
    {
     "name": "stdout",
     "output_type": "stream",
     "text": [
      "1 2 3 5 8 13 21 "
     ]
    }
   ],
   "source": [
    "x=0\n",
    "y=1\n",
    "n=7\n",
    "for i in range(1,n+1):\n",
    "  z=x+y\n",
    "  x=y\n",
    "  y=z\n",
    "  print(z,end=\" \")\n"
   ]
  },
  {
   "cell_type": "markdown",
   "id": "8633176f",
   "metadata": {},
   "source": [
    "# Q(18) python program to check Armstrong Number:-\n"
   ]
  },
  {
   "cell_type": "code",
   "execution_count": 7,
   "id": "3df80398",
   "metadata": {},
   "outputs": [
    {
     "name": "stdout",
     "output_type": "stream",
     "text": [
      "enter a number here:-153\n",
      "it is an armstrong number\n"
     ]
    }
   ],
   "source": [
    "num=int(input(\"enter a number here:-\"))\n",
    "sum=0\n",
    "temp=num\n",
    "while temp>0:\n",
    "  digit=temp%10\n",
    "  cube=digit ** 3\n",
    "  sum=sum+cube\n",
    "  temp//=10\n",
    "if sum==num:\n",
    "  print(\"it is an armstrong number\")\n",
    "else:\n",
    "  print(\"it is not an armstrong number\")\n"
   ]
  },
  {
   "cell_type": "code",
   "execution_count": 36,
   "id": "7d2ee51a",
   "metadata": {},
   "outputs": [
    {
     "name": "stdout",
     "output_type": "stream",
     "text": [
      "enter a number here: 123\n",
      "Not Armstrong No\n"
     ]
    }
   ],
   "source": [
    "num=int(input(\"enter a number here: \"))\n",
    "order = len(str(num))\n",
    "sum=0\n",
    "temp=num\n",
    "while temp>0:\n",
    "  digit=temp%10\n",
    "  sum+=digit**order\n",
    "  temp//=10\n",
    "if sum==num:\n",
    "  print(\"Armstrong No\")\n",
    "else:\n",
    "  print(\"Not Armstrong No\")"
   ]
  },
  {
   "cell_type": "code",
   "execution_count": 22,
   "id": "64162138",
   "metadata": {},
   "outputs": [
    {
     "name": "stdout",
     "output_type": "stream",
     "text": [
      "enter a number here: 153\n",
      "ARMSTRONG NUMBER\n"
     ]
    }
   ],
   "source": [
    "def armst(num):                         # verendr sir\n",
    "    sum=0\n",
    "    l=len(num)\n",
    "    n=int(num)\n",
    "    temp=n\n",
    "    while n>=1:\n",
    "        rem=n%10\n",
    "        sum=sum+(rem**l)\n",
    "        n=n//10\n",
    "    if temp==sum:\n",
    "        print(\"ARMSTRONG NUMBER\")\n",
    "    else:\n",
    "        print(\"NOT ARMSTRONG NUMBER\")\n",
    "n=input(\"enter a number here: \")\n",
    "armst(n)"
   ]
  },
  {
   "cell_type": "markdown",
   "id": "b5186e3f",
   "metadata": {},
   "source": [
    "# Q(19) Python program to find Armstrong Number in an Interval:-\n"
   ]
  },
  {
   "cell_type": "code",
   "execution_count": 40,
   "id": "22046ece",
   "metadata": {},
   "outputs": [
    {
     "name": "stdout",
     "output_type": "stream",
     "text": [
      "enter a lower number:-1\n",
      "enter a upper number:-50\n",
      "1\n",
      "2\n",
      "3\n",
      "4\n",
      "5\n",
      "6\n",
      "7\n",
      "8\n",
      "9\n"
     ]
    }
   ],
   "source": [
    "\n",
    "lower=int(input(\"enter a lower number:-\"))\n",
    "upper=int(input(\"enter a upper number:-\"))\n",
    "\n",
    "for num in range(lower,upper+1):\n",
    "  order=len(str(num))\n",
    "  sum=0\n",
    "  temp=num\n",
    "  while temp>0:\n",
    "    digit=temp%10\n",
    "    sum+=digit**order\n",
    "    temp//=10\n",
    "  if sum== num:\n",
    "    print(num)\n",
    "  \n"
   ]
  },
  {
   "cell_type": "code",
   "execution_count": 38,
   "id": "df5f3325",
   "metadata": {},
   "outputs": [
    {
     "name": "stdout",
     "output_type": "stream",
     "text": [
      "enter a lower no:-50\n",
      "enter a upper no:-1000\n",
      "Armstrong no: 153\n",
      "Armstrong no: 370\n",
      "Armstrong no: 371\n",
      "Armstrong no: 407\n"
     ]
    }
   ],
   "source": [
    "l=int(input(\"enter a lower no:-\"))\n",
    "u=int(input(\"enter a upper no:-\"))\n",
    "\n",
    "for num in range(l,u+1):\n",
    "  order=len(str(num))\n",
    "  sum=0\n",
    "  temp=num\n",
    "  while temp>0:\n",
    "    digit=temp%10\n",
    "    sum+= digit**order\n",
    "    temp//=10\n",
    "  if sum==num:\n",
    "    print(\"Armstrong no:\",num)\n",
    "\n"
   ]
  },
  {
   "cell_type": "markdown",
   "id": "d2c87c43",
   "metadata": {},
   "source": [
    "# Q(20) python program to find the sum of Natural Numbers:- positive integers \n"
   ]
  },
  {
   "cell_type": "code",
   "execution_count": 43,
   "id": "9d0cac0d",
   "metadata": {},
   "outputs": [
    {
     "name": "stdout",
     "output_type": "stream",
     "text": [
      "enter a number here:- 6\n",
      "sum of natural no 21\n"
     ]
    }
   ],
   "source": [
    "num=int(input(\"enter a number here:- \"))\n",
    "\n",
    "if num<0:                                        # (6= 6+5+4+3+2+1===>>21)\n",
    "  print(\"please enter a positive no\")\n",
    "else:\n",
    "  sum=0\n",
    "  while num>0:\n",
    "    sum+=num\n",
    "    num-=1\n",
    "  print(\"sum of natural no\",sum)"
   ]
  },
  {
   "cell_type": "markdown",
   "id": "b2b11515",
   "metadata": {},
   "source": [
    "# Q(21) python program to Display power of 2 using Anonymous Function/lambda function (for using tempary function):-\n",
    "###(a) map==(har function ke uper itraible ko lga ke dega),(b) list==(list format me likhne ke liye)"
   ]
  },
  {
   "cell_type": "markdown",
   "id": "f150e91f",
   "metadata": {},
   "source": [
    "# using list,tuple,map,lambda function and range:-"
   ]
  },
  {
   "cell_type": "code",
   "execution_count": 45,
   "id": "04250b16",
   "metadata": {},
   "outputs": [
    {
     "name": "stdout",
     "output_type": "stream",
     "text": [
      "enter a number of terms here:-6\n",
      "[1, 2, 4, 8, 16, 32, 64]\n"
     ]
    }
   ],
   "source": [
    "nterms= int(input(\"enter a number of terms here:-\"))\n",
    "\n",
    "result=list(map(lambda x: 2 ** x,range(nterms+1)))\n",
    "print(result)"
   ]
  },
  {
   "cell_type": "code",
   "execution_count": 46,
   "id": "918040e1",
   "metadata": {},
   "outputs": [
    {
     "name": "stdout",
     "output_type": "stream",
     "text": [
      "enter a no:=5\n",
      "[1, 3, 9, 27, 81, 243]\n"
     ]
    }
   ],
   "source": [
    "n=int(input(\"enter a no:=\"))\n",
    "r=list(map(lambda x: 3** x, range(n+1)))\n",
    "print(r)"
   ]
  },
  {
   "cell_type": "code",
   "execution_count": 47,
   "id": "cfcc594c",
   "metadata": {},
   "outputs": [
    {
     "name": "stdout",
     "output_type": "stream",
     "text": [
      "(1, 5, 25, 125, 625, 3125, 15625, 78125, 390625, 1953125, 9765625)\n"
     ]
    }
   ],
   "source": [
    "n=10\n",
    "r=tuple(map(lambda x: 5 ** x,range(n+1)))\n",
    "print(r)"
   ]
  },
  {
   "cell_type": "markdown",
   "id": "8d26a991",
   "metadata": {},
   "source": [
    "# using for loop:-"
   ]
  },
  {
   "cell_type": "markdown",
   "id": "fbb34234",
   "metadata": {},
   "source": [
    "nterms=int(input(\"enter a number of terms:-\"))\n",
    "for i in range(nterms+1):\n",
    "     print(\"the value of 2 raised to power\",i,\"is=>>\", result[i])"
   ]
  },
  {
   "cell_type": "markdown",
   "id": "aea87168",
   "metadata": {},
   "source": [
    "# Q(22) python program to find Number Divisible by Another Number:-(\n"
   ]
  },
  {
   "cell_type": "markdown",
   "id": "d7f02f4c",
   "metadata": {},
   "source": [
    "# (1) for loop & conditional statement:-"
   ]
  },
  {
   "cell_type": "markdown",
   "id": "c56155fa",
   "metadata": {},
   "source": [
    "print=(\"The numbers divisible ny 13 are:\")\n",
    "for x in range(1,100):\n",
    "   if x%13 == 0:\n",
    "      print(x)"
   ]
  },
  {
   "cell_type": "markdown",
   "id": "ded81410",
   "metadata": {},
   "source": [
    "# (2)using lambda function(annonymes/tempary function) and filter()=(esse jo jo bhi condition satisfy ho re h use filter karke output la dega:-\n"
   ]
  },
  {
   "cell_type": "code",
   "execution_count": 9,
   "id": "a22bb94c",
   "metadata": {},
   "outputs": [
    {
     "name": "stdout",
     "output_type": "stream",
     "text": [
      "The numbers divisible by 13 are [39, 26]\n"
     ]
    }
   ],
   "source": [
    "l=[39,48,26,98,33,97,87,47]\n",
    "result=list(filter(lambda x:  x % 13 == 0 ,l))\n",
    "print(\"The numbers divisible by 13 are\",result)"
   ]
  },
  {
   "cell_type": "markdown",
   "id": "e39c1cc0",
   "metadata": {},
   "source": [
    "# Q (23) python program for Binary,octal and Hexadecimal \n"
   ]
  },
  {
   "cell_type": "code",
   "execution_count": 3,
   "id": "a159d9fa",
   "metadata": {},
   "outputs": [
    {
     "name": "stdout",
     "output_type": "stream",
     "text": [
      "enter a number here:12\n",
      "the conversion of decimal number 12 is: \n",
      "0o14 in octal\n",
      "0b1100 in binary\n",
      "0xc in hexadecimal\n"
     ]
    }
   ],
   "source": [
    "decimal=int(input(\"enter a number here:\"))\n",
    "\n",
    "print(\"the conversion of decimal number\", decimal,\"is: \")\n",
    "print(oct(decimal),\"in octal\")\n",
    "print(bin(decimal),\"in binary\")\n",
    "print(hex(decimal),\"in hexadecimal\")"
   ]
  },
  {
   "cell_type": "markdown",
   "id": "e63dcc2e",
   "metadata": {},
   "source": [
    "# Q(24) python program to find ASCII value of character"
   ]
  },
  {
   "cell_type": "markdown",
   "id": "8580be94",
   "metadata": {},
   "source": [
    "### use of ord function:-\n"
   ]
  },
  {
   "cell_type": "code",
   "execution_count": 4,
   "id": "5b4806fb",
   "metadata": {},
   "outputs": [
    {
     "name": "stdout",
     "output_type": "stream",
     "text": [
      "the ASCII value of  a is:- 97\n"
     ]
    }
   ],
   "source": [
    "char=\"a\"\n",
    "print(\"the ASCII value of \",char,\"is:-\", ord(char))"
   ]
  },
  {
   "cell_type": "code",
   "execution_count": 5,
   "id": "58d13f8d",
   "metadata": {},
   "outputs": [
    {
     "name": "stdout",
     "output_type": "stream",
     "text": [
      "37\n"
     ]
    }
   ],
   "source": [
    "char=\"%\"\n",
    "print(ord(char))"
   ]
  },
  {
   "cell_type": "markdown",
   "id": "cbd29f6a",
   "metadata": {},
   "source": [
    "# Q(25) python program to find HCF or GCD"
   ]
  },
  {
   "cell_type": "code",
   "execution_count": 6,
   "id": "4d2f846e",
   "metadata": {},
   "outputs": [
    {
     "name": "stdout",
     "output_type": "stream",
     "text": [
      "the hcf of the given two number is 6\n"
     ]
    }
   ],
   "source": [
    "def findHCF(x,y):\n",
    "    if x>y:\n",
    "        smaller = y\n",
    "    else:\n",
    "        smaller = x\n",
    "    for i in range(1,smaller+1):\n",
    "        if ((x%i==0) and (y % i ==0)):\n",
    "            hcf = i\n",
    "    return hcf\n",
    "print(\"the hcf of the given two number is\",findHCF(12,30))\n"
   ]
  },
  {
   "cell_type": "markdown",
   "id": "e04c14d0",
   "metadata": {},
   "source": [
    "# Q(26) python program to find the factors of a number"
   ]
  },
  {
   "cell_type": "code",
   "execution_count": 10,
   "id": "0f7f9701",
   "metadata": {},
   "outputs": [
    {
     "name": "stdout",
     "output_type": "stream",
     "text": [
      "enter a number here: 300\n",
      "1 , 2 , 3 , 4 , 5 , 6 , 10 , 12 , 15 , 20 , 25 , 30 , 50 , 60 , 75 , 100 , 150 , 300 , "
     ]
    }
   ],
   "source": [
    "num=int(input(\"enter a number here: \"))\n",
    "for i in range (1,num+1):\n",
    "    if num%i==0:\n",
    "        print(i, end=\" , \")"
   ]
  },
  {
   "cell_type": "code",
   "execution_count": 9,
   "id": "d8503b7e",
   "metadata": {},
   "outputs": [
    {
     "name": "stdout",
     "output_type": "stream",
     "text": [
      "enter a no :-30\n",
      "1\n",
      "2\n",
      "3\n",
      "5\n",
      "6\n",
      "10\n",
      "15\n",
      "30\n"
     ]
    }
   ],
   "source": [
    "num = int(input(\"enter a no :-\"))\n",
    "for i in range (1,num+1):\n",
    "    if num%i==0:\n",
    "        print(i)"
   ]
  },
  {
   "cell_type": "markdown",
   "id": "2c65cf2d",
   "metadata": {},
   "source": [
    "# Q(27) python program to make a simple calculator:-"
   ]
  },
  {
   "cell_type": "code",
   "execution_count": 11,
   "id": "250975cd",
   "metadata": {},
   "outputs": [
    {
     "name": "stdout",
     "output_type": "stream",
     "text": [
      "~~~~~~~~~~~~~~~ Mini Calculator ~~~~~~~~~~~~~~\n",
      "enter first number here:- 30\n",
      "enter second number here:- 49\n",
      "prees 1 for addition \n",
      "press 2 for subtraction \n",
      "prees 3 for multiplication \n",
      "press 4 for division\n",
      "enter your choice from 1-4:-  3\n",
      "The multiplication of two no:-  1470.0\n"
     ]
    }
   ],
   "source": [
    "print(\"~~~~~~~~~~~~~~~ Mini Calculator ~~~~~~~~~~~~~~\")\n",
    "\n",
    "num1=float(input(\"enter first number here:- \"))\n",
    "num2=float(input(\"enter second number here:- \"))\n",
    "\n",
    "print(\"prees 1 for addition \\npress 2 for subtraction \\nprees 3 for multiplication \\npress 4 for division\")\n",
    "\n",
    "choice=int(input(\"enter your choice from 1-4:-  \"))\n",
    "\n",
    "if choice == 1:\n",
    "    print(\"The addition of two no:-\", num1 + num2)\n",
    "elif choice == 2:\n",
    "        print(\"The subtraction of two no:- \", num1 - num2)\n",
    "elif choice == 3:\n",
    "        print(\"The multiplication of two no:- \", num1 * num2)\n",
    "elif choice == 4:\n",
    "        print(\"The division of two  no:- \", num1 / num2)\n",
    "else:\n",
    "    print(\"invalid input\")"
   ]
  },
  {
   "cell_type": "code",
   "execution_count": 12,
   "id": "653f5f84",
   "metadata": {},
   "outputs": [
    {
     "name": "stdout",
     "output_type": "stream",
     "text": [
      "enter first number:- 1234\n",
      "entersecond number:- 1654\n",
      "+,-,*,/enter the operator2\n",
      "invalid operator\n"
     ]
    }
   ],
   "source": [
    "num1=eval(input(\"enter first number:- \"))\n",
    "num2=eval(input(\"entersecond number:- \"))\n",
    "\n",
    "operator=input('+,-,*,/' \"enter the operator\")\n",
    "if operator==\"+\":\n",
    "    print(num1+num2)\n",
    "elif operator==\"-\":\n",
    "    print(num1-num2)\n",
    "elif operator==\"*\":\n",
    "    print(num1*num2)\n",
    "elif operator==\"/\":\n",
    "    print(num1/num2)\n",
    "elif operator != \"+,-,*,/\":\n",
    "    print(\"invalid operator\")\n",
    "else:\n",
    "    print(\"invalid operator\")"
   ]
  },
  {
   "cell_type": "code",
   "execution_count": 1,
   "id": "34560131",
   "metadata": {},
   "outputs": [
    {
     "name": "stdout",
     "output_type": "stream",
     "text": [
      "~~~~~~~~~~~~~~~ Mini Calculator ~~~~~~~~~~~~~~\n",
      "enter first number here:- 3\n",
      "enter second number here:- 4\n",
      "prees 1 for addition \n",
      "press 2 for subtraction \n",
      "prees 3 for multiplication \n",
      "press 4 for division\n"
     ]
    }
   ],
   "source": [
    "print(\"~~~~~~~~~~~~~~~ Mini Calculator ~~~~~~~~~~~~~~\")\n",
    "\n",
    "num1=float(input(\"enter first number here:- \"))\n",
    "num2=float(input(\"enter second number here:- \"))\n",
    "\n",
    "print(\"prees 1 for addition \\npress 2 for subtraction \\nprees 3 for multiplication \\npress 4 for division\")\n"
   ]
  },
  {
   "cell_type": "code",
   "execution_count": 2,
   "id": "a5a246fb",
   "metadata": {},
   "outputs": [
    {
     "name": "stdout",
     "output_type": "stream",
     "text": [
      "~~~~~~~~~~~~~~~ Mini Calculator ~~~~~~~~~~~~~~\n",
      "enter first number here:- 12\n",
      "enter second number here:- 4\n",
      "prees 1 for addition \n",
      "press 2 for subtraction \n",
      "prees 3 for multiplication \n",
      "press 4 for division\n",
      "enter your choice from 1-4:-  4\n",
      "The division of two  no:-  3.0\n"
     ]
    }
   ],
   "source": [
    "print(\"~~~~~~~~~~~~~~~ Mini Calculator ~~~~~~~~~~~~~~\")\n",
    "\n",
    "num1=float(input(\"enter first number here:- \"))\n",
    "num2=float(input(\"enter second number here:- \"))\n",
    "\n",
    "print(\"prees 1 for addition \\npress 2 for subtraction \\nprees 3 for multiplication \\npress 4 for division\")\n",
    "\n",
    "choice=int(input(\"enter your choice from 1-4:-  \"))\n",
    "\n",
    "if choice == 1:\n",
    "    print(\"The addition of two no:-\", num1 + num2)\n",
    "elif choice == 2:\n",
    "        print(\"The subtraction of two no:- \", num1 - num2)\n",
    "elif choice == 3:\n",
    "        print(\"The multiplication of two no:- \", num1 * num2)\n",
    "elif choice == 4:\n",
    "        print(\"The division of two  no:- \", num1 / num2)\n",
    "else:\n",
    "    print(\"invalid input\")"
   ]
  },
  {
   "cell_type": "markdown",
   "id": "6680529f",
   "metadata": {},
   "source": [
    "# Q(28) python program to shuffle Deck of card:-"
   ]
  },
  {
   "cell_type": "code",
   "execution_count": 13,
   "id": "6e6cb19c",
   "metadata": {},
   "outputs": [
    {
     "name": "stdout",
     "output_type": "stream",
     "text": [
      "[(1, 'spade'), (1, 'club'), (1, 'Hearts'), (1, 'Diamond'), (2, 'spade'), (2, 'club'), (2, 'Hearts'), (2, 'Diamond'), (3, 'spade'), (3, 'club'), (3, 'Hearts'), (3, 'Diamond'), (4, 'spade'), (4, 'club'), (4, 'Hearts'), (4, 'Diamond'), (5, 'spade'), (5, 'club'), (5, 'Hearts'), (5, 'Diamond'), (6, 'spade'), (6, 'club'), (6, 'Hearts'), (6, 'Diamond'), (7, 'spade'), (7, 'club'), (7, 'Hearts'), (7, 'Diamond'), (8, 'spade'), (8, 'club'), (8, 'Hearts'), (8, 'Diamond'), (9, 'spade'), (9, 'club'), (9, 'Hearts'), (9, 'Diamond'), (10, 'spade'), (10, 'club'), (10, 'Hearts'), (10, 'Diamond'), (11, 'spade'), (11, 'club'), (11, 'Hearts'), (11, 'Diamond'), (12, 'spade'), (12, 'club'), (12, 'Hearts'), (12, 'Diamond'), (13, 'spade'), (13, 'club'), (13, 'Hearts'), (13, 'Diamond')]\n"
     ]
    }
   ],
   "source": [
    "import random,itertools\n",
    "deck = list(itertools.product(range(1,14),[\"spade\",\"club\",\"Hearts\",\"Diamond\"]))\n",
    "print(deck)"
   ]
  },
  {
   "cell_type": "code",
   "execution_count": 16,
   "id": "c1dea1d1",
   "metadata": {},
   "outputs": [
    {
     "name": "stdout",
     "output_type": "stream",
     "text": [
      "[(9, 'spade'), (2, 'Hearts'), (3, 'club'), (6, 'club'), (2, 'spade'), (8, 'club'), (8, 'spade'), (11, 'Diamond'), (7, 'Diamond'), (5, 'Hearts'), (4, 'Hearts'), (6, 'Diamond'), (13, 'club'), (1, 'Hearts'), (12, 'club'), (11, 'Hearts'), (9, 'club'), (13, 'Hearts'), (12, 'spade'), (3, 'spade'), (12, 'Hearts'), (1, 'Diamond'), (10, 'club'), (1, 'spade'), (13, 'spade'), (11, 'club'), (5, 'Diamond'), (8, 'Diamond'), (6, 'Hearts'), (10, 'spade'), (3, 'Hearts'), (1, 'club'), (10, 'Hearts'), (2, 'club'), (2, 'Diamond'), (11, 'spade'), (8, 'Hearts'), (5, 'spade'), (3, 'Diamond'), (12, 'Diamond'), (7, 'spade'), (5, 'club'), (7, 'Hearts'), (4, 'club'), (9, 'Hearts'), (4, 'Diamond'), (4, 'spade'), (6, 'spade'), (7, 'club'), (9, 'Diamond'), (10, 'Diamond'), (13, 'Diamond')]\n"
     ]
    }
   ],
   "source": [
    "import random,itertools\n",
    "\n",
    "deck= list(itertools.product(range(1,14),[\"spade\",\"club\",\"Hearts\",\"Diamond\"]))\n",
    "random.shuffle(deck)\n",
    "print(deck)"
   ]
  },
  {
   "cell_type": "code",
   "execution_count": 17,
   "id": "f1e816cc",
   "metadata": {},
   "outputs": [
    {
     "name": "stdout",
     "output_type": "stream",
     "text": [
      "[(5, 'spade'), (1, 'Diamond'), (5, 'clib'), (6, 'spade'), (13, 'Diamond'), (13, 'Hearts'), (3, 'Hearts'), (1, 'spade'), (2, 'clib'), (10, 'Diamond'), (1, 'Hearts'), (4, 'clib'), (4, 'Hearts'), (9, 'Diamond'), (13, 'spade'), (13, 'clib'), (3, 'clib'), (8, 'spade'), (7, 'clib'), (12, 'spade'), (11, 'Hearts'), (7, 'Diamond'), (2, 'Diamond'), (12, 'clib'), (9, 'spade'), (6, 'Hearts'), (10, 'spade'), (5, 'Diamond'), (6, 'Diamond'), (3, 'spade'), (11, 'spade'), (8, 'Diamond'), (9, 'Hearts'), (11, 'clib'), (5, 'Hearts'), (11, 'Diamond'), (2, 'Hearts'), (10, 'Hearts'), (12, 'Hearts'), (4, 'spade'), (12, 'Diamond'), (7, 'spade'), (3, 'Diamond'), (10, 'clib'), (2, 'spade'), (8, 'clib'), (4, 'Diamond'), (6, 'clib'), (1, 'clib'), (7, 'Hearts'), (8, 'Hearts'), (9, 'clib')]\n",
      "5 of spade\n",
      "1 of Diamond\n",
      "5 of clib\n",
      "6 of spade\n",
      "13 of Diamond\n"
     ]
    }
   ],
   "source": [
    "import random,itertools\n",
    "deck=list(itertools.product(range(1,14),[\"spade\",\"clib\",\"Hearts\",\"Diamond\"]))\n",
    "random.shuffle(deck)\n",
    "print(deck)\n",
    "\n",
    "for i in range(5):\n",
    "    print(deck[i][0], \"of\", deck[i][1])"
   ]
  },
  {
   "cell_type": "markdown",
   "id": "682e7ab4",
   "metadata": {},
   "source": [
    "# Q(29) python program to Display Calender:-"
   ]
  },
  {
   "cell_type": "code",
   "execution_count": 19,
   "id": "7d950d2a",
   "metadata": {},
   "outputs": [
    {
     "name": "stdout",
     "output_type": "stream",
     "text": [
      "enter a year:-2023\n",
      "enter a month:-2\n",
      "   February 2023\n",
      "Mo Tu We Th Fr Sa Su\n",
      "       1  2  3  4  5\n",
      " 6  7  8  9 10 11 12\n",
      "13 14 15 16 17 18 19\n",
      "20 21 22 23 24 25 26\n",
      "27 28\n",
      "\n"
     ]
    }
   ],
   "source": [
    "import calendar\n",
    "year=int(input(\"enter a year:-\"))\n",
    "month=int(input(\"enter a month:-\"))\n",
    "calendar=calendar.month(year,month)\n",
    "print(calendar)"
   ]
  },
  {
   "cell_type": "code",
   "execution_count": 1,
   "id": "d93c0621",
   "metadata": {},
   "outputs": [
    {
     "name": "stdout",
     "output_type": "stream",
     "text": [
      "enter a year:-2023\n",
      "enter a month:-1\n",
      "    January 2023\n",
      "Mo Tu We Th Fr Sa Su\n",
      "                   1\n",
      " 2  3  4  5  6  7  8\n",
      " 9 10 11 12 13 14 15\n",
      "16 17 18 19 20 21 22\n",
      "23 24 25 26 27 28 29\n",
      "30 31\n",
      "\n"
     ]
    }
   ],
   "source": [
    "import calendar\n",
    "year=int(input(\"enter a year:-\"))\n",
    "month=int(input(\"enter a month:-\"))\n",
    "calendar=calendar.month(year,month)\n",
    "print(calendar)"
   ]
  },
  {
   "cell_type": "markdown",
   "id": "3f1e741b",
   "metadata": {},
   "source": [
    "# Q(30) python program to Display Fibonacci sequence using Recursion:- (function ke andar function khud ko call karta h to use recursion kahte h)"
   ]
  },
  {
   "cell_type": "code",
   "execution_count": 8,
   "id": "e8be396a",
   "metadata": {},
   "outputs": [
    {
     "name": "stdout",
     "output_type": "stream",
     "text": [
      "enter a number here: -4\n",
      "enter a positive number\n"
     ]
    }
   ],
   "source": [
    "def fibo (n):\n",
    "    if n<=1:\n",
    "        return n\n",
    "    else:\n",
    "        return fibo(n-1)+fibo(n-2)\n",
    "n=int(input(\"enter a number here: \"))\n",
    "if n<=0:\n",
    "    print(\"enter a positive number\")\n",
    "else:\n",
    "    print(\"fibonacci sequence\")\n",
    "    for i in range(n):\n",
    "        print(fibo(i))\n"
   ]
  },
  {
   "cell_type": "code",
   "execution_count": 11,
   "id": "2944116c",
   "metadata": {},
   "outputs": [
    {
     "name": "stdout",
     "output_type": "stream",
     "text": [
      "enter a no : 7\n",
      "enter a positive no \n",
      "0\n",
      "1\n",
      "1\n",
      "2\n",
      "3\n",
      "5\n",
      "8\n"
     ]
    }
   ],
   "source": [
    "def fibo(n):\n",
    "    if n<=1:\n",
    "        return n\n",
    "    else:\n",
    "        return fibo(n-1)+fibo(n-2)\n",
    "n=int(input(\"enter a no : \"))\n",
    "if n<=0:\n",
    "    print(\"enter a negative no\")\n",
    "else:\n",
    "    print(\"enter a positive no \")\n",
    "    for i in range(n):\n",
    "        print(fibo(i))"
   ]
  },
  {
   "cell_type": "markdown",
   "id": "2f732c0e",
   "metadata": {},
   "source": [
    "# Q(31)  python program to find sum of natural numbers using Recursion:-"
   ]
  },
  {
   "cell_type": "code",
   "execution_count": 12,
   "id": "237085a2",
   "metadata": {},
   "outputs": [
    {
     "name": "stdout",
     "output_type": "stream",
     "text": [
      "enter a number here: 5\n",
      "The sum of natural upto given number number is  15\n"
     ]
    }
   ],
   "source": [
    "def NNS(n):\n",
    "    if n<=1:\n",
    "        return n\n",
    "    else:\n",
    "        return (n)+NNS(n-1)\n",
    "n=int(input(\"enter a number here: \"))\n",
    "\n",
    "if n<=0:\n",
    "    print(\"enter a positive number: \")\n",
    "else:\n",
    "    print(\"The sum of natural upto given number number is \",NNS(n))"
   ]
  },
  {
   "cell_type": "code",
   "execution_count": 13,
   "id": "a022e0f5",
   "metadata": {},
   "outputs": [
    {
     "name": "stdout",
     "output_type": "stream",
     "text": [
      "enter a no:-8\n",
      "sum of NNS:  36\n"
     ]
    }
   ],
   "source": [
    "def nikku(n):\n",
    "    if n<=1:\n",
    "        return n\n",
    "    else:\n",
    "        return (n)+nikku(n-1)\n",
    "n=int(input(\"enter a no:-\"))\n",
    "if n<=0:\n",
    "    print(\" enter a positive no\")\n",
    "else:\n",
    "    print(\"sum of NNS: \",nikku(n))"
   ]
  },
  {
   "cell_type": "markdown",
   "id": "6e68afc0",
   "metadata": {},
   "source": [
    "# using map function by sir:-"
   ]
  },
  {
   "cell_type": "code",
   "execution_count": 3,
   "id": "fe2aac36",
   "metadata": {},
   "outputs": [
    {
     "name": "stdout",
     "output_type": "stream",
     "text": [
      "6\n"
     ]
    }
   ],
   "source": [
    "n=123\n",
    "res=0\n",
    "while n>=1:\n",
    "    rem=n%10\n",
    "    res=res+rem\n",
    "    n=n//10\n",
    "print(res)"
   ]
  },
  {
   "cell_type": "code",
   "execution_count": 3,
   "id": "82c5a0d6",
   "metadata": {},
   "outputs": [
    {
     "name": "stdout",
     "output_type": "stream",
     "text": [
      "32\n"
     ]
    }
   ],
   "source": [
    "n=123\n",
    "res=0\n",
    "while n>2:\n",
    "    rem=n%10\n",
    "    res=res*10+rem\n",
    "    n=n//10\n",
    "print(res)"
   ]
  },
  {
   "cell_type": "code",
   "execution_count": 4,
   "id": "941334bb",
   "metadata": {},
   "outputs": [
    {
     "name": "stdout",
     "output_type": "stream",
     "text": [
      "enter a no:-12.5 5.2\n",
      "65.0\n"
     ]
    }
   ],
   "source": [
    "l,w=map(float,input(\"enter a no:-\").split(\" \"))\n",
    "area=l*w\n",
    "print(area)"
   ]
  },
  {
   "cell_type": "code",
   "execution_count": 5,
   "id": "ecd00051",
   "metadata": {},
   "outputs": [
    {
     "name": "stdout",
     "output_type": "stream",
     "text": [
      "enter two value:- 20.5 30.2\n",
      "309.55\n"
     ]
    }
   ],
   "source": [
    "height,weight=map(float,input(\"enter two value:- \").split(\" \"))\n",
    "area_traingle=(1/2)*(height)*(weight)\n",
    "print(area_traingle)"
   ]
  },
  {
   "cell_type": "code",
   "execution_count": 7,
   "id": "7ee22119",
   "metadata": {},
   "outputs": [
    {
     "name": "stdout",
     "output_type": "stream",
     "text": [
      "3\n",
      "5\n",
      "6\n",
      "total_result:- 6\n"
     ]
    }
   ],
   "source": [
    "n=123\n",
    "result=0\n",
    "while n> 0:\n",
    "    rem=n%10\n",
    "    result=rem+result\n",
    "    n=n//10\n",
    "    print(result)\n",
    "print( \"total_result:-\",result)"
   ]
  },
  {
   "cell_type": "markdown",
   "id": "77570ab5",
   "metadata": {},
   "source": [
    "# pattern in python program"
   ]
  },
  {
   "cell_type": "code",
   "execution_count": 9,
   "id": "46dc5b12",
   "metadata": {},
   "outputs": [
    {
     "name": "stdout",
     "output_type": "stream",
     "text": [
      "0\n",
      "1\n",
      "2\n",
      "3\n",
      "4\n",
      "5\n"
     ]
    }
   ],
   "source": [
    "n=5\n",
    "for i in range(0,n+1):\n",
    "    print(i)"
   ]
  },
  {
   "cell_type": "code",
   "execution_count": 10,
   "id": "1550c80c",
   "metadata": {},
   "outputs": [
    {
     "name": "stdout",
     "output_type": "stream",
     "text": [
      "0 @ 1 @ 2 @ 3 @ 4 @ 5 @ "
     ]
    }
   ],
   "source": [
    "n=5\n",
    "for i in range (0,n+1):\n",
    "    print(i ,end=\" @ \")"
   ]
  },
  {
   "cell_type": "code",
   "execution_count": 11,
   "id": "760888c5",
   "metadata": {},
   "outputs": [
    {
     "name": "stdout",
     "output_type": "stream",
     "text": [
      "*\n",
      "*\n",
      "*\n",
      "*\n",
      "*\n",
      "*\n",
      "*\n",
      "*\n"
     ]
    }
   ],
   "source": [
    "n=5\n",
    "for i in range(0,n+3):\n",
    "    print(\"*\")"
   ]
  },
  {
   "cell_type": "code",
   "execution_count": 14,
   "id": "46550c07",
   "metadata": {},
   "outputs": [
    {
     "name": "stdout",
     "output_type": "stream",
     "text": [
      "* * * * * * * * * * * * * * * \n"
     ]
    }
   ],
   "source": [
    "n=5\n",
    "for i in range(1,n+1):\n",
    "    for j in range(i):\n",
    "        print(\"*\",end=\" \")\n",
    "print()"
   ]
  },
  {
   "cell_type": "code",
   "execution_count": 15,
   "id": "b540eb74",
   "metadata": {},
   "outputs": [
    {
     "name": "stdout",
     "output_type": "stream",
     "text": [
      "* \n",
      "* * \n",
      "* * * \n",
      "* * * * \n",
      "* * * * * \n"
     ]
    }
   ],
   "source": [
    "n=5\n",
    "for i in range(1,n+1):\n",
    "    for j in range(i):\n",
    "        print(\"*\",end=\" \")\n",
    "    print()"
   ]
  },
  {
   "cell_type": "code",
   "execution_count": 16,
   "id": "8e36a21d",
   "metadata": {},
   "outputs": [
    {
     "name": "stdout",
     "output_type": "stream",
     "text": [
      "1 \n",
      "2 2 \n",
      "3 3 3 \n",
      "4 4 4 4 \n",
      "5 5 5 5 5 \n"
     ]
    }
   ],
   "source": [
    "n=5\n",
    "for i in range(1,n+1):\n",
    "    for j in range(i):\n",
    "        print(i, end=\" \")\n",
    "    print()"
   ]
  },
  {
   "cell_type": "code",
   "execution_count": 17,
   "id": "2a31cd36",
   "metadata": {},
   "outputs": [
    {
     "name": "stdout",
     "output_type": "stream",
     "text": [
      "0 \n",
      "0 1 \n",
      "0 1 2 \n",
      "0 1 2 3 \n",
      "0 1 2 3 4 \n"
     ]
    }
   ],
   "source": [
    "n=5\n",
    "for i in range(1,n+1):\n",
    "    for j in range(i):\n",
    "        print(j,end=\" \")\n",
    "    print()\n",
    "    "
   ]
  },
  {
   "cell_type": "code",
   "execution_count": 6,
   "id": "f7a71634",
   "metadata": {},
   "outputs": [
    {
     "name": "stdout",
     "output_type": "stream",
     "text": [
      "0\n",
      "1\n",
      "* 2\n",
      "* * 3\n",
      "* * * 4\n",
      "* * * * 5\n"
     ]
    }
   ],
   "source": [
    "n=5\n",
    "for i in range(0,n+1):\n",
    "    for j in range(i-1):\n",
    "        print(\"*\",end=\" \")\n",
    "    print(i)"
   ]
  },
  {
   "cell_type": "code",
   "execution_count": 23,
   "id": "7bafd82e",
   "metadata": {},
   "outputs": [
    {
     "name": "stdout",
     "output_type": "stream",
     "text": [
      "* * * * * \n",
      "* * * * \n",
      "* * * \n",
      "* * \n",
      "* \n",
      "\n"
     ]
    }
   ],
   "source": [
    "n=5\n",
    "for i in range(0,n+1):\n",
    "    for j in range(i,n):\n",
    "        print(\"*\",end=\" \")\n",
    "    print()"
   ]
  },
  {
   "cell_type": "code",
   "execution_count": 26,
   "id": "c5af15a0",
   "metadata": {},
   "outputs": [
    {
     "name": "stdout",
     "output_type": "stream",
     "text": [
      "* * * * * \n",
      "* * * * \n",
      "* * * \n",
      "* * \n",
      "* \n",
      "\n",
      "\n",
      "* \n",
      "* * \n",
      "* * * \n",
      "* * * * \n",
      "* * * * * \n"
     ]
    }
   ],
   "source": [
    "n=5\n",
    "for i in range(0,n+1):\n",
    "    for j in range(i,n):\n",
    "        print(\"*\", end=\" \")\n",
    "    print()\n",
    "for i in range(0,n+1):\n",
    "    for j in range(i):\n",
    "        print(\"*\",end=\" \")\n",
    "    print()"
   ]
  },
  {
   "cell_type": "code",
   "execution_count": 30,
   "id": "91138147",
   "metadata": {},
   "outputs": [
    {
     "name": "stdout",
     "output_type": "stream",
     "text": [
      "* * * * * \n",
      "* * * * \n",
      "* * * \n",
      "* * \n",
      "* \n",
      "\n",
      "\n",
      "\n",
      "* \n",
      "* * \n",
      "* * * \n",
      "* * * * \n"
     ]
    }
   ],
   "source": [
    "n=5\n",
    "for i in range(0,n+1):\n",
    "    for j in range(i,n):\n",
    "        print(\"*\", end=\" \")\n",
    "    print()\n",
    "for i in range(n+1):\n",
    "    for j in range(i-1):\n",
    "        print(\"*\",end=\" \")\n",
    "    print()"
   ]
  },
  {
   "cell_type": "code",
   "execution_count": 6,
   "id": "14100970",
   "metadata": {},
   "outputs": [
    {
     "name": "stdout",
     "output_type": "stream",
     "text": [
      "* \n",
      "* * \n",
      "* * * \n",
      "* * * * \n",
      "* * * * * \n",
      "* * * * * \n",
      "* * * * \n",
      "* * * \n",
      "* * \n",
      "* \n",
      "\n"
     ]
    }
   ],
   "source": [
    "n=5\n",
    "for i in range(1,n+1):\n",
    "    for j in range(i):\n",
    "        print(\"*\",end=\" \")\n",
    "    print()\n",
    "for i in range(0,n+1):\n",
    "    for j in range(i,n):\n",
    "        print(\"*\",end=\" \")\n",
    "    print()"
   ]
  },
  {
   "cell_type": "code",
   "execution_count": 11,
   "id": "e20ecfee",
   "metadata": {},
   "outputs": [
    {
     "name": "stdout",
     "output_type": "stream",
     "text": [
      "4\n",
      "* 4\n",
      "* * 4\n",
      "* * * 4\n",
      "* * * * 4\n",
      "* * * * * 4\n"
     ]
    }
   ],
   "source": [
    "n=5\n",
    "for i in range(0,n+1):\n",
    "    for j in range(i):\n",
    "        print(\"*\",end=\" \")\n",
    "    print(n-1)"
   ]
  },
  {
   "cell_type": "code",
   "execution_count": 13,
   "id": "d9f8a6f4",
   "metadata": {},
   "outputs": [
    {
     "name": "stdout",
     "output_type": "stream",
     "text": [
      "5\n",
      "5\n",
      "*\n",
      "5\n",
      "*\n",
      "*\n",
      "5\n",
      "*\n",
      "*\n",
      "*\n",
      "5\n",
      "*\n",
      "*\n",
      "*\n",
      "*\n",
      "5\n"
     ]
    }
   ],
   "source": [
    "n=5\n",
    "for i in range(0,n+1):\n",
    "    for j in range(i-1):\n",
    "        print(\"*\")\n",
    "    print(n)"
   ]
  },
  {
   "cell_type": "code",
   "execution_count": 16,
   "id": "35d88aa5",
   "metadata": {},
   "outputs": [
    {
     "name": "stdout",
     "output_type": "stream",
     "text": [
      "* 4 * 4 * 4 * 4 * 4 * 4 * 4 * 4 * 4 * 4 * 4 * 4 * 4 * 4 * 4 "
     ]
    }
   ],
   "source": [
    "n=5\n",
    "for i in range(0,n+1):\n",
    "    for j in range(i):\n",
    "        print(\"*\",n-1, end=\" \")"
   ]
  },
  {
   "cell_type": "code",
   "execution_count": 25,
   "id": "68360ced",
   "metadata": {},
   "outputs": [
    {
     "name": "stdout",
     "output_type": "stream",
     "text": [
      "*&*&*&*&*&  *&*&*&*&  *&*&*&  *&*&  *&  "
     ]
    }
   ],
   "source": [
    "n=5\n",
    "for i in range(n):\n",
    "    for j in range(i,n):\n",
    "        print(\"*\",end=\"&\")\n",
    "    print(\" \",end=\" \")"
   ]
  },
  {
   "cell_type": "code",
   "execution_count": 35,
   "id": "b44fa6db",
   "metadata": {
    "scrolled": true
   },
   "outputs": [
    {
     "name": "stdout",
     "output_type": "stream",
     "text": [
      "* * * * *  %* * * *  %* * *  %* *  %*  %"
     ]
    }
   ],
   "source": [
    "n=5\n",
    "for i in range(n):\n",
    "    for j in range(i,n):\n",
    "        print(\"*\",end=\" \")\n",
    "    print(\" \",end=\"%\")"
   ]
  },
  {
   "cell_type": "code",
   "execution_count": 10,
   "id": "895da8da",
   "metadata": {},
   "outputs": [
    {
     "name": "stdout",
     "output_type": "stream",
     "text": [
      "          *         * *       * * *     * * * *   * * * * * "
     ]
    }
   ],
   "source": [
    "n=5\n",
    "for i in range(n):\n",
    "    for j in range(i,n):\n",
    "        print(\" \",end=\" \")\n",
    "    for i in range(i+1):\n",
    "        print(\"*\", end=\" \")"
   ]
  },
  {
   "cell_type": "code",
   "execution_count": 11,
   "id": "42b5eab2",
   "metadata": {},
   "outputs": [
    {
     "name": "stdout",
     "output_type": "stream",
     "text": [
      "          * \n",
      "        * * \n",
      "      * * * \n",
      "    * * * * \n",
      "  * * * * * \n"
     ]
    }
   ],
   "source": [
    "n=5\n",
    "for i in range(n):\n",
    "    for j in range(i,n):\n",
    "        print(\" \",end=\" \")\n",
    "    for j in range(i+1):\n",
    "        print(\"*\",end=\" \")\n",
    "    print()"
   ]
  },
  {
   "cell_type": "code",
   "execution_count": 15,
   "id": "813d82ae",
   "metadata": {},
   "outputs": [
    {
     "name": "stdout",
     "output_type": "stream",
     "text": [
      "  * * * * * \n",
      "    * * * * \n",
      "      * * * \n",
      "        * * \n",
      "          * \n"
     ]
    }
   ],
   "source": [
    "n=5\n",
    "for i in range(n):\n",
    "    for j in range(i+1):\n",
    "        print(\" \",end=\" \")\n",
    "    for j in range(i,n):\n",
    "        print(\"*\",end=\" \")\n",
    "    print()"
   ]
  },
  {
   "cell_type": "code",
   "execution_count": 16,
   "id": "19562cc5",
   "metadata": {},
   "outputs": [
    {
     "name": "stdout",
     "output_type": "stream",
     "text": [
      "* * * * * \n",
      "* * * * * \n",
      "* * * * * \n",
      "* * * * * \n",
      "* * * * * \n"
     ]
    }
   ],
   "source": [
    "n=5\n",
    "for i in range(n):\n",
    "    for j in range(n):\n",
    "        print(\"*\",end=\" \")\n",
    "    print()"
   ]
  },
  {
   "cell_type": "code",
   "execution_count": 19,
   "id": "be5a6515",
   "metadata": {},
   "outputs": [
    {
     "name": "stdout",
     "output_type": "stream",
     "text": [
      "          * \n",
      "        * * * \n",
      "      * * * * * \n",
      "    * * * * * * * \n",
      "  * * * * * * * * * \n"
     ]
    }
   ],
   "source": [
    "n=5\n",
    "for i in range(n):\n",
    "    for j in range(i,n):\n",
    "        print(' ',end=\" \")\n",
    "    for j in range(i):\n",
    "        print(\"*\",end=\" \")\n",
    "    for j in range(i+1):\n",
    "        print(\"*\",end=\" \")\n",
    "    print()"
   ]
  },
  {
   "cell_type": "markdown",
   "id": "e81acc47",
   "metadata": {},
   "source": [
    "# Q(31) python program to  find sum of  Natural Number using Recursion:-"
   ]
  },
  {
   "cell_type": "code",
   "execution_count": 8,
   "id": "159e8cb7",
   "metadata": {},
   "outputs": [
    {
     "name": "stdout",
     "output_type": "stream",
     "text": [
      "enter a number here: 7\n",
      "The sum of natural number upto given number is  28\n"
     ]
    }
   ],
   "source": [
    "def NNS(n):\n",
    "    if n<=1:\n",
    "        return n\n",
    "    else:\n",
    "        return (n)+NNS(n-1)\n",
    "n=int(input(\"enter a number here: \"))\n",
    "\n",
    "if n<=0:\n",
    "    print(\"enter a positive number: \")\n",
    "else:\n",
    "    print(\"The sum of natural number upto given number is \",NNS(n))"
   ]
  },
  {
   "cell_type": "code",
   "execution_count": null,
   "id": "f869af98",
   "metadata": {},
   "outputs": [],
   "source": [
    "num=123\n",
    "sum=0\n",
    "while num>=0:\n",
    "    sum+=num%10\n",
    "    num//=10\n",
    "print(sum)"
   ]
  },
  {
   "cell_type": "markdown",
   "id": "84c21828",
   "metadata": {},
   "source": [
    "num=123\n",
    "sum=0\n",
    "while num>=0:\n",
    "    sum+=num%10\n",
    "    num//=10\n",
    "print(sum)"
   ]
  },
  {
   "cell_type": "markdown",
   "id": "969e7e24",
   "metadata": {},
   "source": [
    "# Q(32) python program to find Factorial of Number using Recursion:-"
   ]
  },
  {
   "cell_type": "code",
   "execution_count": 7,
   "id": "2d47621e",
   "metadata": {},
   "outputs": [
    {
     "name": "stdout",
     "output_type": "stream",
     "text": [
      "enter a number here:- 6\n",
      "factorial of given number is:  720\n"
     ]
    }
   ],
   "source": [
    "def fact(n):\n",
    "    if n==1:\n",
    "        return 1\n",
    "    else:\n",
    "        \n",
    "        return (n*fact(n-1))\n",
    "n =int(input(\"enter a number here:- \"))\n",
    "if n<=0:\n",
    "    print(\"factorial of number less than 1 does not exist\")\n",
    "else:\n",
    "    print(\"factorial of given number is: \",fact(n))"
   ]
  },
  {
   "cell_type": "markdown",
   "id": "12ce18b6",
   "metadata": {},
   "source": [
    "# Q(33) python program to convert Decimal to Binary uisng Recursion:-"
   ]
  },
  {
   "cell_type": "code",
   "execution_count": 33,
   "id": "b0a42f5c",
   "metadata": {},
   "outputs": [
    {
     "name": "stdout",
     "output_type": "stream",
     "text": [
      "the binary of the given number is: \n",
      "1010"
     ]
    }
   ],
   "source": [
    "def convertbinary(n):\n",
    "    if n >=1:\n",
    "        convertbinary(n//2)\n",
    "        print(n%2, end=\"\")\n",
    "print(\"the binary of the given number is: \")\n",
    "convertbinary(10)"
   ]
  },
  {
   "cell_type": "code",
   "execution_count": 37,
   "id": "1ede645d",
   "metadata": {},
   "outputs": [
    {
     "name": "stdout",
     "output_type": "stream",
     "text": [
      "1010 :the binary of the number is: None\n"
     ]
    }
   ],
   "source": [
    "def b(n):\n",
    "    if n>=1:\n",
    "        b(n//2)\n",
    "        print(n%2, end=\"\")\n",
    "print(\" :the binary of the number is:\",b(10))"
   ]
  },
  {
   "cell_type": "code",
   "execution_count": 38,
   "id": "6c8abcf5",
   "metadata": {},
   "outputs": [
    {
     "name": "stdout",
     "output_type": "stream",
     "text": [
      "the binary of the given number is: \n",
      "100000"
     ]
    }
   ],
   "source": [
    "def b(n):\n",
    "    if n>=1:\n",
    "        b(n//2)\n",
    "        print(n%2, end=\"\")\n",
    "print(\"the binary of the given number is: \")\n",
    "b(32)"
   ]
  },
  {
   "cell_type": "markdown",
   "id": "b8a158c2",
   "metadata": {},
   "source": [
    "# Q(34) python program to Add Two Matrices:-"
   ]
  },
  {
   "cell_type": "code",
   "execution_count": 42,
   "id": "af1e8db2",
   "metadata": {},
   "outputs": [
    {
     "name": "stdout",
     "output_type": "stream",
     "text": [
      "[[13, 13, 14], [12, 7, 5], [10, 6, 5]]\n"
     ]
    }
   ],
   "source": [
    "a=[[5,6,8],\n",
    "   [7,3,2],\n",
    "   [8,5,1]]\n",
    "b=[[8,7,6],\n",
    "   [5,4,3],\n",
    "   [2,1,4]]\n",
    "result=[[0,0,0],\n",
    "        [0,0,0],\n",
    "        [0,0,0]]\n",
    "\n",
    "for i in range(len(a)):\n",
    "    for j in range(len(a[0])):\n",
    "        result[i][j] = a[i][j] +b [i][j]\n",
    "print(result)\n",
    "    "
   ]
  },
  {
   "cell_type": "code",
   "execution_count": 53,
   "id": "447c6249",
   "metadata": {
    "scrolled": true
   },
   "outputs": [
    {
     "name": "stdout",
     "output_type": "stream",
     "text": [
      "[10, 10, 10]\n",
      "[10, 10, 10]\n",
      "[10, 10, 10]\n"
     ]
    }
   ],
   "source": [
    "a=[[1,2,3],\n",
    "   [4,5,6],\n",
    "   [7,8,9]]\n",
    "\n",
    "b=[[9,8,7],\n",
    "   [6,5,4],\n",
    "   [3,2,1]]\n",
    "result=[[0,0,0],\n",
    "        [0,0,0],\n",
    "        [0,0,0]]\n",
    "\n",
    "for i in range(len(a)):\n",
    "    for j in range(len(a[0])):\n",
    "        result[i][j] = a[i][j] + b[i][j]\n",
    "    \n",
    "for r in result:\n",
    "    print(r)"
   ]
  },
  {
   "cell_type": "markdown",
   "id": "2ffc90ec",
   "metadata": {},
   "source": [
    "# Q(35) python program to Transpose A Matrix:-"
   ]
  },
  {
   "cell_type": "markdown",
   "id": "a8ad6b9e",
   "metadata": {},
   "source": [
    "## using for loop:-"
   ]
  },
  {
   "cell_type": "code",
   "execution_count": 55,
   "id": "d21b9046",
   "metadata": {},
   "outputs": [
    {
     "name": "stdout",
     "output_type": "stream",
     "text": [
      "[[1, 4], [2, 5], [3, 6]]\n"
     ]
    }
   ],
   "source": [
    "A = [[1,2,3],\n",
    "     [4,5,6]]\n",
    "T = [[0,0],\n",
    "     [0,0],\n",
    "     [0,0]]\n",
    "\n",
    "for i in range(len(A)):\n",
    "    for j in range(len(A[0])):\n",
    "        T[j][i] = A[i][j]\n",
    "        \n",
    "print(T)"
   ]
  },
  {
   "cell_type": "code",
   "execution_count": 56,
   "id": "2046b635",
   "metadata": {},
   "outputs": [
    {
     "name": "stdout",
     "output_type": "stream",
     "text": [
      "[1, 4]\n",
      "[2, 5]\n",
      "[3, 6]\n"
     ]
    }
   ],
   "source": [
    "A = [[1,2,3],\n",
    "     [4,5,6]]\n",
    "T = [[0,0],\n",
    "     [0,0],\n",
    "     [0,0]]\n",
    "\n",
    "for i in range(len(A)):\n",
    "    for j in range(len(A[0])):\n",
    "        T[j][i] = A[i][j]\n",
    "        \n",
    "for i in T:\n",
    "    print(i)"
   ]
  },
  {
   "cell_type": "markdown",
   "id": "6ec83b09",
   "metadata": {},
   "source": [
    "##  using List comprehension:-"
   ]
  },
  {
   "cell_type": "code",
   "execution_count": 59,
   "id": "752edca3",
   "metadata": {},
   "outputs": [
    {
     "name": "stdout",
     "output_type": "stream",
     "text": [
      "[1, 4]\n",
      "[2, 5]\n",
      "[3, 6]\n"
     ]
    }
   ],
   "source": [
    "A = [[1,2,3],\n",
    "     [4,5,6]]\n",
    "\n",
    "T = [[A[j][i] for j in range(len(A))] for i in range(len(A[0]))]\n",
    "\n",
    "for i in T:\n",
    "    print(i)"
   ]
  },
  {
   "cell_type": "code",
   "execution_count": 60,
   "id": "48c04986",
   "metadata": {},
   "outputs": [
    {
     "name": "stdout",
     "output_type": "stream",
     "text": [
      "[3, 6]\n",
      "[2, 7]\n",
      "[4, 8]\n",
      "[5, 9]\n"
     ]
    }
   ],
   "source": [
    "q= [[3,2,4,5],\n",
    "    [6,7,8,9]]\n",
    "\n",
    "t= [[q[j][i] for j in range(len(q))] for i in range(len(q[0]))]\n",
    "\n",
    "for j in t:\n",
    "    print(j)"
   ]
  },
  {
   "cell_type": "markdown",
   "id": "6e114c45",
   "metadata": {},
   "source": [
    "# Q(36) python program to Multiply Two Matrices:-"
   ]
  },
  {
   "cell_type": "code",
   "execution_count": 68,
   "id": "e23b249b",
   "metadata": {},
   "outputs": [
    {
     "name": "stdout",
     "output_type": "stream",
     "text": [
      "[22, 22, 11, 17]\n",
      "[55, 58, 29, 38]\n",
      "[37, 38, 19, 28]\n"
     ]
    }
   ],
   "source": [
    "A =[[1,2,3],\n",
    "    [4,5,6],\n",
    "    [4,2,5]]\n",
    "\n",
    "B =[[3,4,2,1],\n",
    "    [5,6,3,2],\n",
    "    [3,2,1,4]]\n",
    "\n",
    "Result= [[0,0,0,0],\n",
    "         [0,0,0,0],\n",
    "         [0,0,0,0]]\n",
    "\n",
    "for i in range(len(A)):\n",
    "    for j in range(len(B[0])):\n",
    "        for k in range(len(B)):\n",
    "            Result[i][j] += A[i][k] * B[k][j]\n",
    "            \n",
    "for i in Result:\n",
    "    print(i)"
   ]
  },
  {
   "cell_type": "markdown",
   "id": "f2cc34b4",
   "metadata": {},
   "source": [
    "# Q(37) python program to check whether a string is palindrom or not:-"
   ]
  },
  {
   "cell_type": "code",
   "execution_count": 7,
   "id": "b13ea71c",
   "metadata": {},
   "outputs": [
    {
     "name": "stdout",
     "output_type": "stream",
     "text": [
      "enter a word here: madam\n",
      "it is a palindrom\n"
     ]
    }
   ],
   "source": [
    "a= input(\"enter a word here: \")\n",
    "revers =a[::-1]\n",
    "if a==revers:\n",
    "    print(\"it is a palindrom\")\n",
    "else:\n",
    "    print(\"it is not a palindrom\")"
   ]
  },
  {
   "cell_type": "code",
   "execution_count": 8,
   "id": "5e7035e7",
   "metadata": {},
   "outputs": [
    {
     "name": "stdout",
     "output_type": "stream",
     "text": [
      "enter a word here: hello\n",
      "it is not a palindrom\n"
     ]
    }
   ],
   "source": [
    "a= input(\"enter a word here: \")\n",
    "revers =a[::-1]\n",
    "if a==revers:\n",
    "    print(\"it is a palindrom\")\n",
    "else:\n",
    "    print(\"it is not a palindrom\")"
   ]
  },
  {
   "cell_type": "code",
   "execution_count": 24,
   "id": "d1d0a92e",
   "metadata": {},
   "outputs": [
    {
     "name": "stdout",
     "output_type": "stream",
     "text": [
      "enter a number here: 1221\n",
      "palindrom\n"
     ]
    }
   ],
   "source": [
    "def palindrom(num):              # verendr sir\n",
    "    rem=0\n",
    "    temp=num\n",
    "    reverse=0\n",
    "    while num>=1:\n",
    "        rem=num%10\n",
    "        reverse=(reverse*10)+rem\n",
    "        num=num//10\n",
    "    if temp==reverse:\n",
    "        print(\"palindrom\")\n",
    "    else:\n",
    "        print(\"not palindrom\")\n",
    "num=int(input(\"enter a number here: \"))\n",
    "palindrom(num)"
   ]
  },
  {
   "cell_type": "markdown",
   "id": "87acd700",
   "metadata": {},
   "source": [
    "# Q(38) python program to Remove Punctuations from a string:-"
   ]
  },
  {
   "cell_type": "markdown",
   "id": "9644d6e1",
   "metadata": {},
   "source": [
    "## punctuations==>  () , {},  -,  _ , \", ' , =, !, < , > "
   ]
  },
  {
   "cell_type": "markdown",
   "id": "99c49e75",
   "metadata": {},
   "source": [
    "## USING FOR LOOP:-"
   ]
  },
  {
   "cell_type": "code",
   "execution_count": 13,
   "id": "3aa9d1ff",
   "metadata": {},
   "outputs": [
    {
     "name": "stdout",
     "output_type": "stream",
     "text": [
      "enter anything here: Hello!!!! how are you????? i am fine........\n",
      "Hello how are you i am fine\n"
     ]
    }
   ],
   "source": [
    "puncuation ='''!@#$%^&*(){}[]-_<>~\\/;.,:\"?'''\n",
    "string =input(\"enter anything here: \")\n",
    "empty_str =\"\"\n",
    "\n",
    "for i in string:\n",
    "    if i not in puncuation:\n",
    "        empty_str +=i\n",
    "print(empty_str)"
   ]
  },
  {
   "cell_type": "markdown",
   "id": "41590472",
   "metadata": {},
   "source": [
    "# Q(39) python program to sort words in Alphabetic Order:-"
   ]
  },
  {
   "cell_type": "code",
   "execution_count": 20,
   "id": "964ca300",
   "metadata": {},
   "outputs": [
    {
     "name": "stdout",
     "output_type": "stream",
     "text": [
      "enter something here: HARRY POTTER AND THE GOBLET OF FIRE\n",
      "and\n",
      "fire\n",
      "goblet\n",
      "harry\n",
      "of\n",
      "potter\n",
      "the\n"
     ]
    }
   ],
   "source": [
    "a = input(\"enter something here: \")\n",
    "w=a.split()                                  # invetet deta h\n",
    "#print(w)\n",
    "for i in range(len(w)):\n",
    "    w[i] =w[i].lower()                        # small later me convert karne ke liye\n",
    "#print(w)\n",
    "w.sort()                                      # alphabatic order me deta h\n",
    "#print(w)\n",
    "\n",
    "for i in w:\n",
    "    print(i)"
   ]
  },
  {
   "cell_type": "markdown",
   "id": "bd6d9819",
   "metadata": {},
   "source": [
    "# Q(40) python program to illustrate Different set Operations:-"
   ]
  },
  {
   "cell_type": "markdown",
   "id": "581c03d5",
   "metadata": {},
   "source": [
    "## (1) union(|) , (2) intersection(&) , (3) Difference(-) , (4) Symmentric Difference(^)"
   ]
  },
  {
   "cell_type": "code",
   "execution_count": 3,
   "id": "12ff4733",
   "metadata": {},
   "outputs": [
    {
     "name": "stdout",
     "output_type": "stream",
     "text": [
      "The union is:-  {1, 2, 3, 4, 5, 6, 7, 8, 9}\n",
      "The intersection is:-  {8, 3, 6}\n",
      "The Difference is:-  {1, 2, 9}\n",
      "The symmentric difference is:-  {1, 2, 4, 5, 7, 9}\n"
     ]
    }
   ],
   "source": [
    "A = {1,2,3,6,8,9}\n",
    "B = {3,4,5,6,7,8}\n",
    "\n",
    "print(\"The union is:- \",A|B)\n",
    "print(\"The intersection is:- \",A&B)\n",
    "print(\"The Difference is:- \",A-B)\n",
    "print(\"The symmentric difference is:- \",A^B)"
   ]
  },
  {
   "cell_type": "markdown",
   "id": "f0f6c913",
   "metadata": {},
   "source": [
    "# Q(41) python program to count the Number of Each vowel:-"
   ]
  },
  {
   "cell_type": "markdown",
   "id": "4dad41cc",
   "metadata": {},
   "source": [
    "## using Dictionary:-"
   ]
  },
  {
   "cell_type": "code",
   "execution_count": 5,
   "id": "909715dd",
   "metadata": {},
   "outputs": [
    {
     "name": "stdout",
     "output_type": "stream",
     "text": [
      "harry potter and the prisoner of azkaban\n",
      "{'a': 0, 'e': 0, 'i': 0, 'o': 0, 'u': 0}\n",
      "{'a': 5, 'e': 3, 'i': 1, 'o': 3, 'u': 0}\n"
     ]
    }
   ],
   "source": [
    "a= \"Harry potter and the prisoner of Azkaban\"\n",
    "vowels = \"aeiou\"\n",
    "a = a.casefold()                                 # yha first later small bna deta h\n",
    "print(a)\n",
    "count = {}.fromkeys(vowels,0)\n",
    "print(count)\n",
    "\n",
    "for char in a:\n",
    "    if char in count:\n",
    "        count[char]+=1\n",
    "print(count)"
   ]
  },
  {
   "cell_type": "markdown",
   "id": "474bb870",
   "metadata": {},
   "source": [
    "## using list and Dictionary comprehen:-"
   ]
  },
  {
   "cell_type": "code",
   "execution_count": 6,
   "id": "707ef28f",
   "metadata": {},
   "outputs": [
    {
     "name": "stdout",
     "output_type": "stream",
     "text": [
      "{'a': 5, 'e': 3, 'i': 1, 'o': 3, 'u': 0}\n"
     ]
    }
   ],
   "source": [
    "a = \"Harry potter and the prisoner of Azkaban\"\n",
    "vowels = \"aeiou\"\n",
    "a=a.casefold()\n",
    "count = {key:sum([1 for char in a if char == key]) for key in vowels}\n",
    "print(count)"
   ]
  }
 ],
 "metadata": {
  "kernelspec": {
   "display_name": "Python 3 (ipykernel)",
   "language": "python",
   "name": "python3"
  },
  "language_info": {
   "codemirror_mode": {
    "name": "ipython",
    "version": 3
   },
   "file_extension": ".py",
   "mimetype": "text/x-python",
   "name": "python",
   "nbconvert_exporter": "python",
   "pygments_lexer": "ipython3",
   "version": "3.9.12"
  }
 },
 "nbformat": 4,
 "nbformat_minor": 5
}
